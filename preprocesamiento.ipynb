{
 "cells": [
  {
   "cell_type": "markdown",
   "id": "86473d08",
   "metadata": {},
   "source": [
    "# Preprocesamiento de datos"
   ]
  },
  {
   "cell_type": "markdown",
   "id": "f7c469bd",
   "metadata": {},
   "source": [
    "### Librerias"
   ]
  },
  {
   "cell_type": "code",
   "execution_count": 66,
   "id": "1bc42630",
   "metadata": {},
   "outputs": [],
   "source": [
    "#Importamos las librerias necesarias\n",
    "import pandas as pd\n",
    "import numpy as np\n",
    "import matplotlib.pyplot as plt\n",
    "import seaborn as sns\n",
    "import folium\n",
    "from folium.plugins import HeatMap, MarkerCluster\n",
    "from sklearn.cluster import KMeans\n",
    "from sklearn.preprocessing import StandardScaler\n",
    "import datetime\n",
    "from matplotlib import cm\n",
    "from matplotlib.colors import ListedColormap\n",
    "import warnings\n",
    "warnings.filterwarnings(\"ignore\")"
   ]
  },
  {
   "cell_type": "markdown",
   "id": "1df6394c",
   "metadata": {},
   "source": [
    "### Configuración visual"
   ]
  },
  {
   "cell_type": "code",
   "execution_count": 67,
   "id": "5e607514",
   "metadata": {},
   "outputs": [],
   "source": [
    "plt.style.use('seaborn-v0_8')\n",
    "sns.set(style=\"whitegrid\")\n",
    "plt.rcParams['figure.figsize'] = (12, 4)\n",
    "plt.rcParams['axes.labelsize'] = 12\n",
    "plt.rcParams['axes.titlesize'] = 14\n",
    "plt.rcParams['xtick.labelsize'] = 10\n",
    "plt.rcParams['ytick.labelsize'] = 10\n",
    "\n",
    "viridis = cm.get_cmap('viridis', 256)\n",
    "magma = cm.get_cmap('magma', 256)\n",
    "plasma = cm.get_cmap('plasma', 256)"
   ]
  },
  {
   "cell_type": "markdown",
   "id": "65e84790",
   "metadata": {},
   "source": [
    "### Carga de archivos"
   ]
  },
  {
   "cell_type": "code",
   "execution_count": 68,
   "id": "17532ae3",
   "metadata": {},
   "outputs": [],
   "source": [
    "#Subimos el archivo csv a un dataframe\n",
    "df = pd.read_csv(r\"C:\\Users\\cmoli\\OneDrive\\Documentos\\GitHub\\nuevo-proyecto\\data\\all_month 1.csv\")"
   ]
  },
  {
   "cell_type": "code",
   "execution_count": 69,
   "id": "ea7d52c9",
   "metadata": {},
   "outputs": [
    {
     "data": {
      "text/html": [
       "<div>\n",
       "<style scoped>\n",
       "    .dataframe tbody tr th:only-of-type {\n",
       "        vertical-align: middle;\n",
       "    }\n",
       "\n",
       "    .dataframe tbody tr th {\n",
       "        vertical-align: top;\n",
       "    }\n",
       "\n",
       "    .dataframe thead th {\n",
       "        text-align: right;\n",
       "    }\n",
       "</style>\n",
       "<table border=\"1\" class=\"dataframe\">\n",
       "  <thead>\n",
       "    <tr style=\"text-align: right;\">\n",
       "      <th></th>\n",
       "      <th>time</th>\n",
       "      <th>latitude</th>\n",
       "      <th>longitude</th>\n",
       "      <th>depth</th>\n",
       "      <th>mag</th>\n",
       "      <th>magType</th>\n",
       "      <th>nst</th>\n",
       "      <th>gap</th>\n",
       "      <th>dmin</th>\n",
       "      <th>rms</th>\n",
       "      <th>...</th>\n",
       "      <th>updated</th>\n",
       "      <th>place</th>\n",
       "      <th>type</th>\n",
       "      <th>horizontalError</th>\n",
       "      <th>depthError</th>\n",
       "      <th>magError</th>\n",
       "      <th>magNst</th>\n",
       "      <th>status</th>\n",
       "      <th>locationSource</th>\n",
       "      <th>magSource</th>\n",
       "    </tr>\n",
       "  </thead>\n",
       "  <tbody>\n",
       "    <tr>\n",
       "      <th>0</th>\n",
       "      <td>2025-05-02T02:50:02.380Z</td>\n",
       "      <td>33.912167</td>\n",
       "      <td>-117.070000</td>\n",
       "      <td>12.690000</td>\n",
       "      <td>0.89</td>\n",
       "      <td>ml</td>\n",
       "      <td>33.0</td>\n",
       "      <td>116.0</td>\n",
       "      <td>NaN</td>\n",
       "      <td>0.20</td>\n",
       "      <td>...</td>\n",
       "      <td>2025-05-02T02:53:47.574Z</td>\n",
       "      <td>9 km S of Calimesa, CA</td>\n",
       "      <td>earthquake</td>\n",
       "      <td>0.31</td>\n",
       "      <td>1.31</td>\n",
       "      <td>0.167</td>\n",
       "      <td>28.0</td>\n",
       "      <td>automatic</td>\n",
       "      <td>ci</td>\n",
       "      <td>ci</td>\n",
       "    </tr>\n",
       "    <tr>\n",
       "      <th>1</th>\n",
       "      <td>2025-05-02T02:39:31.940Z</td>\n",
       "      <td>33.073667</td>\n",
       "      <td>-116.801333</td>\n",
       "      <td>9.340000</td>\n",
       "      <td>0.82</td>\n",
       "      <td>ml</td>\n",
       "      <td>5.0</td>\n",
       "      <td>168.0</td>\n",
       "      <td>0.1396</td>\n",
       "      <td>0.15</td>\n",
       "      <td>...</td>\n",
       "      <td>2025-05-02T02:42:55.817Z</td>\n",
       "      <td>7 km ENE of Ramona, CA</td>\n",
       "      <td>earthquake</td>\n",
       "      <td>3.87</td>\n",
       "      <td>10.42</td>\n",
       "      <td>0.388</td>\n",
       "      <td>9.0</td>\n",
       "      <td>automatic</td>\n",
       "      <td>ci</td>\n",
       "      <td>ci</td>\n",
       "    </tr>\n",
       "    <tr>\n",
       "      <th>2</th>\n",
       "      <td>2025-05-02T02:36:43.010Z</td>\n",
       "      <td>59.731200</td>\n",
       "      <td>-151.989200</td>\n",
       "      <td>58.700000</td>\n",
       "      <td>1.90</td>\n",
       "      <td>ml</td>\n",
       "      <td>NaN</td>\n",
       "      <td>NaN</td>\n",
       "      <td>NaN</td>\n",
       "      <td>0.98</td>\n",
       "      <td>...</td>\n",
       "      <td>2025-05-02T02:38:45.940Z</td>\n",
       "      <td>10 km WSW of Anchor Point, Alaska</td>\n",
       "      <td>earthquake</td>\n",
       "      <td>NaN</td>\n",
       "      <td>0.90</td>\n",
       "      <td>NaN</td>\n",
       "      <td>NaN</td>\n",
       "      <td>automatic</td>\n",
       "      <td>ak</td>\n",
       "      <td>ak</td>\n",
       "    </tr>\n",
       "    <tr>\n",
       "      <th>3</th>\n",
       "      <td>2025-05-02T02:33:57.040Z</td>\n",
       "      <td>33.815500</td>\n",
       "      <td>-116.828833</td>\n",
       "      <td>29.800000</td>\n",
       "      <td>1.17</td>\n",
       "      <td>ml</td>\n",
       "      <td>15.0</td>\n",
       "      <td>208.0</td>\n",
       "      <td>0.1857</td>\n",
       "      <td>0.17</td>\n",
       "      <td>...</td>\n",
       "      <td>2025-05-02T02:37:27.431Z</td>\n",
       "      <td>10 km NE of Valle Vista, CA</td>\n",
       "      <td>earthquake</td>\n",
       "      <td>1.57</td>\n",
       "      <td>0.91</td>\n",
       "      <td>0.307</td>\n",
       "      <td>33.0</td>\n",
       "      <td>automatic</td>\n",
       "      <td>ci</td>\n",
       "      <td>ci</td>\n",
       "    </tr>\n",
       "    <tr>\n",
       "      <th>4</th>\n",
       "      <td>2025-05-02T02:32:14.770Z</td>\n",
       "      <td>19.569666</td>\n",
       "      <td>-155.366669</td>\n",
       "      <td>60.099998</td>\n",
       "      <td>2.63</td>\n",
       "      <td>ml</td>\n",
       "      <td>8.0</td>\n",
       "      <td>149.0</td>\n",
       "      <td>0.0935</td>\n",
       "      <td>0.32</td>\n",
       "      <td>...</td>\n",
       "      <td>2025-05-02T02:35:58.840Z</td>\n",
       "      <td>19 km NW of Volcano, Hawaii</td>\n",
       "      <td>earthquake</td>\n",
       "      <td>2.98</td>\n",
       "      <td>4.89</td>\n",
       "      <td>0.730</td>\n",
       "      <td>4.0</td>\n",
       "      <td>automatic</td>\n",
       "      <td>hv</td>\n",
       "      <td>hv</td>\n",
       "    </tr>\n",
       "  </tbody>\n",
       "</table>\n",
       "<p>5 rows × 22 columns</p>\n",
       "</div>"
      ],
      "text/plain": [
       "                       time   latitude   longitude      depth   mag magType  \\\n",
       "0  2025-05-02T02:50:02.380Z  33.912167 -117.070000  12.690000  0.89      ml   \n",
       "1  2025-05-02T02:39:31.940Z  33.073667 -116.801333   9.340000  0.82      ml   \n",
       "2  2025-05-02T02:36:43.010Z  59.731200 -151.989200  58.700000  1.90      ml   \n",
       "3  2025-05-02T02:33:57.040Z  33.815500 -116.828833  29.800000  1.17      ml   \n",
       "4  2025-05-02T02:32:14.770Z  19.569666 -155.366669  60.099998  2.63      ml   \n",
       "\n",
       "    nst    gap    dmin   rms  ...                   updated  \\\n",
       "0  33.0  116.0     NaN  0.20  ...  2025-05-02T02:53:47.574Z   \n",
       "1   5.0  168.0  0.1396  0.15  ...  2025-05-02T02:42:55.817Z   \n",
       "2   NaN    NaN     NaN  0.98  ...  2025-05-02T02:38:45.940Z   \n",
       "3  15.0  208.0  0.1857  0.17  ...  2025-05-02T02:37:27.431Z   \n",
       "4   8.0  149.0  0.0935  0.32  ...  2025-05-02T02:35:58.840Z   \n",
       "\n",
       "                               place        type horizontalError depthError  \\\n",
       "0             9 km S of Calimesa, CA  earthquake            0.31       1.31   \n",
       "1             7 km ENE of Ramona, CA  earthquake            3.87      10.42   \n",
       "2  10 km WSW of Anchor Point, Alaska  earthquake             NaN       0.90   \n",
       "3        10 km NE of Valle Vista, CA  earthquake            1.57       0.91   \n",
       "4        19 km NW of Volcano, Hawaii  earthquake            2.98       4.89   \n",
       "\n",
       "   magError  magNst     status  locationSource magSource  \n",
       "0     0.167    28.0  automatic              ci        ci  \n",
       "1     0.388     9.0  automatic              ci        ci  \n",
       "2       NaN     NaN  automatic              ak        ak  \n",
       "3     0.307    33.0  automatic              ci        ci  \n",
       "4     0.730     4.0  automatic              hv        hv  \n",
       "\n",
       "[5 rows x 22 columns]"
      ]
     },
     "execution_count": 69,
     "metadata": {},
     "output_type": "execute_result"
    }
   ],
   "source": [
    "#Leemos el archivo y comprobamos que se haya subido correctamente\n",
    "df.head(5)"
   ]
  },
  {
   "cell_type": "markdown",
   "id": "ca587ff8",
   "metadata": {},
   "source": [
    "### Preprocesamiento de datos"
   ]
  },
  {
   "cell_type": "code",
   "execution_count": 70,
   "id": "41fb4f80",
   "metadata": {},
   "outputs": [
    {
     "data": {
      "text/plain": [
       "(10137, 22)"
      ]
     },
     "execution_count": 70,
     "metadata": {},
     "output_type": "execute_result"
    }
   ],
   "source": [
    "df.shape #dimensiones del dataframe"
   ]
  },
  {
   "cell_type": "code",
   "execution_count": 71,
   "id": "9c1fd9c1",
   "metadata": {},
   "outputs": [
    {
     "name": "stdout",
     "output_type": "stream",
     "text": [
      "<class 'pandas.core.frame.DataFrame'>\n",
      "RangeIndex: 10137 entries, 0 to 10136\n",
      "Data columns (total 22 columns):\n",
      " #   Column           Non-Null Count  Dtype  \n",
      "---  ------           --------------  -----  \n",
      " 0   time             10137 non-null  object \n",
      " 1   latitude         10137 non-null  float64\n",
      " 2   longitude        10137 non-null  float64\n",
      " 3   depth            10137 non-null  float64\n",
      " 4   mag              10137 non-null  float64\n",
      " 5   magType          10137 non-null  object \n",
      " 6   nst              8661 non-null   float64\n",
      " 7   gap              8661 non-null   float64\n",
      " 8   dmin             8659 non-null   float64\n",
      " 9   rms              10137 non-null  float64\n",
      " 10  net              10137 non-null  object \n",
      " 11  id               10137 non-null  object \n",
      " 12  updated          10137 non-null  object \n",
      " 13  place            10137 non-null  object \n",
      " 14  type             10137 non-null  object \n",
      " 15  horizontalError  8046 non-null   float64\n",
      " 16  depthError       10137 non-null  float64\n",
      " 17  magError         8644 non-null   float64\n",
      " 18  magNst           8660 non-null   float64\n",
      " 19  status           10137 non-null  object \n",
      " 20  locationSource   10137 non-null  object \n",
      " 21  magSource        10137 non-null  object \n",
      "dtypes: float64(12), object(10)\n",
      "memory usage: 1.7+ MB\n"
     ]
    }
   ],
   "source": [
    "df.info() #informacion del dataframe"
   ]
  },
  {
   "cell_type": "code",
   "execution_count": 72,
   "id": "3e99ed5e",
   "metadata": {},
   "outputs": [
    {
     "data": {
      "text/plain": [
       "Index(['time', 'latitude', 'longitude', 'depth', 'mag', 'magType', 'nst',\n",
       "       'gap', 'dmin', 'rms', 'net', 'id', 'updated', 'place', 'type',\n",
       "       'horizontalError', 'depthError', 'magError', 'magNst', 'status',\n",
       "       'locationSource', 'magSource'],\n",
       "      dtype='object')"
      ]
     },
     "execution_count": 72,
     "metadata": {},
     "output_type": "execute_result"
    }
   ],
   "source": [
    "df.columns #columnas del dataframe"
   ]
  },
  {
   "cell_type": "code",
   "execution_count": 73,
   "id": "a2da73ae",
   "metadata": {},
   "outputs": [
    {
     "data": {
      "text/html": [
       "<div>\n",
       "<style scoped>\n",
       "    .dataframe tbody tr th:only-of-type {\n",
       "        vertical-align: middle;\n",
       "    }\n",
       "\n",
       "    .dataframe tbody tr th {\n",
       "        vertical-align: top;\n",
       "    }\n",
       "\n",
       "    .dataframe thead th {\n",
       "        text-align: right;\n",
       "    }\n",
       "</style>\n",
       "<table border=\"1\" class=\"dataframe\">\n",
       "  <thead>\n",
       "    <tr style=\"text-align: right;\">\n",
       "      <th></th>\n",
       "      <th>latitude</th>\n",
       "      <th>longitude</th>\n",
       "      <th>depth</th>\n",
       "      <th>mag</th>\n",
       "      <th>nst</th>\n",
       "      <th>gap</th>\n",
       "      <th>dmin</th>\n",
       "      <th>rms</th>\n",
       "      <th>horizontalError</th>\n",
       "      <th>depthError</th>\n",
       "      <th>magError</th>\n",
       "      <th>magNst</th>\n",
       "    </tr>\n",
       "  </thead>\n",
       "  <tbody>\n",
       "    <tr>\n",
       "      <th>count</th>\n",
       "      <td>10137.000000</td>\n",
       "      <td>10137.000000</td>\n",
       "      <td>10137.000000</td>\n",
       "      <td>10137.000000</td>\n",
       "      <td>8661.000000</td>\n",
       "      <td>8661.000000</td>\n",
       "      <td>8659.000000</td>\n",
       "      <td>10137.000000</td>\n",
       "      <td>8046.000000</td>\n",
       "      <td>10137.000000</td>\n",
       "      <td>8644.000000</td>\n",
       "      <td>8660.000000</td>\n",
       "    </tr>\n",
       "    <tr>\n",
       "      <th>mean</th>\n",
       "      <td>38.731782</td>\n",
       "      <td>-106.940775</td>\n",
       "      <td>20.288255</td>\n",
       "      <td>1.519695</td>\n",
       "      <td>23.452719</td>\n",
       "      <td>111.266649</td>\n",
       "      <td>0.434701</td>\n",
       "      <td>0.258716</td>\n",
       "      <td>1.706322</td>\n",
       "      <td>2.186346</td>\n",
       "      <td>0.177142</td>\n",
       "      <td>19.206928</td>\n",
       "    </tr>\n",
       "    <tr>\n",
       "      <th>std</th>\n",
       "      <td>17.984444</td>\n",
       "      <td>73.009765</td>\n",
       "      <td>50.234703</td>\n",
       "      <td>1.279802</td>\n",
       "      <td>22.620950</td>\n",
       "      <td>64.132831</td>\n",
       "      <td>1.579085</td>\n",
       "      <td>0.271471</td>\n",
       "      <td>3.264264</td>\n",
       "      <td>5.142015</td>\n",
       "      <td>0.103722</td>\n",
       "      <td>33.116053</td>\n",
       "    </tr>\n",
       "    <tr>\n",
       "      <th>min</th>\n",
       "      <td>-65.172700</td>\n",
       "      <td>-179.930800</td>\n",
       "      <td>-3.410000</td>\n",
       "      <td>-1.320000</td>\n",
       "      <td>2.000000</td>\n",
       "      <td>10.000000</td>\n",
       "      <td>0.000000</td>\n",
       "      <td>0.000000</td>\n",
       "      <td>0.000000</td>\n",
       "      <td>0.000000</td>\n",
       "      <td>0.000000</td>\n",
       "      <td>0.000000</td>\n",
       "    </tr>\n",
       "    <tr>\n",
       "      <th>25%</th>\n",
       "      <td>33.531000</td>\n",
       "      <td>-146.793600</td>\n",
       "      <td>3.000000</td>\n",
       "      <td>0.720000</td>\n",
       "      <td>9.000000</td>\n",
       "      <td>64.000000</td>\n",
       "      <td>0.014770</td>\n",
       "      <td>0.080000</td>\n",
       "      <td>0.250000</td>\n",
       "      <td>0.450000</td>\n",
       "      <td>0.110000</td>\n",
       "      <td>7.000000</td>\n",
       "    </tr>\n",
       "    <tr>\n",
       "      <th>50%</th>\n",
       "      <td>38.811165</td>\n",
       "      <td>-121.076667</td>\n",
       "      <td>7.400000</td>\n",
       "      <td>1.260000</td>\n",
       "      <td>17.000000</td>\n",
       "      <td>94.000000</td>\n",
       "      <td>0.052140</td>\n",
       "      <td>0.160000</td>\n",
       "      <td>0.416988</td>\n",
       "      <td>0.720000</td>\n",
       "      <td>0.160000</td>\n",
       "      <td>12.000000</td>\n",
       "    </tr>\n",
       "    <tr>\n",
       "      <th>75%</th>\n",
       "      <td>51.276000</td>\n",
       "      <td>-115.607667</td>\n",
       "      <td>13.800000</td>\n",
       "      <td>1.970000</td>\n",
       "      <td>29.000000</td>\n",
       "      <td>146.000000</td>\n",
       "      <td>0.117050</td>\n",
       "      <td>0.330000</td>\n",
       "      <td>0.950000</td>\n",
       "      <td>1.643410</td>\n",
       "      <td>0.219056</td>\n",
       "      <td>22.000000</td>\n",
       "    </tr>\n",
       "    <tr>\n",
       "      <th>max</th>\n",
       "      <td>86.322700</td>\n",
       "      <td>179.999300</td>\n",
       "      <td>642.872000</td>\n",
       "      <td>6.900000</td>\n",
       "      <td>400.000000</td>\n",
       "      <td>359.000000</td>\n",
       "      <td>42.272000</td>\n",
       "      <td>3.830000</td>\n",
       "      <td>41.690000</td>\n",
       "      <td>68.600000</td>\n",
       "      <td>2.090000</td>\n",
       "      <td>802.000000</td>\n",
       "    </tr>\n",
       "  </tbody>\n",
       "</table>\n",
       "</div>"
      ],
      "text/plain": [
       "           latitude     longitude         depth           mag          nst  \\\n",
       "count  10137.000000  10137.000000  10137.000000  10137.000000  8661.000000   \n",
       "mean      38.731782   -106.940775     20.288255      1.519695    23.452719   \n",
       "std       17.984444     73.009765     50.234703      1.279802    22.620950   \n",
       "min      -65.172700   -179.930800     -3.410000     -1.320000     2.000000   \n",
       "25%       33.531000   -146.793600      3.000000      0.720000     9.000000   \n",
       "50%       38.811165   -121.076667      7.400000      1.260000    17.000000   \n",
       "75%       51.276000   -115.607667     13.800000      1.970000    29.000000   \n",
       "max       86.322700    179.999300    642.872000      6.900000   400.000000   \n",
       "\n",
       "               gap         dmin           rms  horizontalError    depthError  \\\n",
       "count  8661.000000  8659.000000  10137.000000      8046.000000  10137.000000   \n",
       "mean    111.266649     0.434701      0.258716         1.706322      2.186346   \n",
       "std      64.132831     1.579085      0.271471         3.264264      5.142015   \n",
       "min      10.000000     0.000000      0.000000         0.000000      0.000000   \n",
       "25%      64.000000     0.014770      0.080000         0.250000      0.450000   \n",
       "50%      94.000000     0.052140      0.160000         0.416988      0.720000   \n",
       "75%     146.000000     0.117050      0.330000         0.950000      1.643410   \n",
       "max     359.000000    42.272000      3.830000        41.690000     68.600000   \n",
       "\n",
       "          magError       magNst  \n",
       "count  8644.000000  8660.000000  \n",
       "mean      0.177142    19.206928  \n",
       "std       0.103722    33.116053  \n",
       "min       0.000000     0.000000  \n",
       "25%       0.110000     7.000000  \n",
       "50%       0.160000    12.000000  \n",
       "75%       0.219056    22.000000  \n",
       "max       2.090000   802.000000  "
      ]
     },
     "execution_count": 73,
     "metadata": {},
     "output_type": "execute_result"
    }
   ],
   "source": [
    "df.describe() #estadisticas del dataframe"
   ]
  },
  {
   "cell_type": "code",
   "execution_count": 74,
   "id": "5a1438ba",
   "metadata": {},
   "outputs": [
    {
     "data": {
      "text/plain": [
       "time                  0\n",
       "latitude              0\n",
       "longitude             0\n",
       "depth                 0\n",
       "mag                   0\n",
       "magType               0\n",
       "nst                1476\n",
       "gap                1476\n",
       "dmin               1478\n",
       "rms                   0\n",
       "net                   0\n",
       "id                    0\n",
       "updated               0\n",
       "place                 0\n",
       "type                  0\n",
       "horizontalError    2091\n",
       "depthError            0\n",
       "magError           1493\n",
       "magNst             1477\n",
       "status                0\n",
       "locationSource        0\n",
       "magSource             0\n",
       "dtype: int64"
      ]
     },
     "execution_count": 74,
     "metadata": {},
     "output_type": "execute_result"
    }
   ],
   "source": [
    "df.isnull().sum() #comprobamos si hay valores nulos en el dataframe"
   ]
  },
  {
   "cell_type": "code",
   "execution_count": 75,
   "id": "ab37cce7",
   "metadata": {},
   "outputs": [
    {
     "data": {
      "text/plain": [
       "time                0.000000\n",
       "latitude            0.000000\n",
       "longitude           0.000000\n",
       "depth               0.000000\n",
       "mag                 0.000000\n",
       "magType             0.000000\n",
       "nst                14.560521\n",
       "gap                14.560521\n",
       "dmin               14.580251\n",
       "rms                 0.000000\n",
       "net                 0.000000\n",
       "id                  0.000000\n",
       "updated             0.000000\n",
       "place               0.000000\n",
       "type                0.000000\n",
       "horizontalError    20.627405\n",
       "depthError          0.000000\n",
       "magError           14.728223\n",
       "magNst             14.570386\n",
       "status              0.000000\n",
       "locationSource      0.000000\n",
       "magSource           0.000000\n",
       "dtype: float64"
      ]
     },
     "execution_count": 75,
     "metadata": {},
     "output_type": "execute_result"
    }
   ],
   "source": [
    "df.isnull().sum() / len(df) * 100 #comprobamos el porcentaje de valores nulos en el dataframe"
   ]
  },
  {
   "cell_type": "code",
   "execution_count": 76,
   "id": "0c4c85af",
   "metadata": {},
   "outputs": [
    {
     "data": {
      "text/plain": [
       "<Axes: >"
      ]
     },
     "execution_count": 76,
     "metadata": {},
     "output_type": "execute_result"
    },
    {
     "data": {
      "image/png": "[encoded data removed]",
      "text/plain": [
       "<Figure size 1200x400 with 1 Axes>"
      ]
     },
     "metadata": {},
     "output_type": "display_data"
    }
   ],
   "source": [
    "sns.heatmap(df.isnull(), cbar=False, cmap='viridis') #visualizamos los valores nulos en el dataframe"
   ]
  },
  {
   "cell_type": "code",
   "execution_count": 77,
   "id": "7c09d38a",
   "metadata": {},
   "outputs": [],
   "source": [
    "#convertir la columna time a datetime\n",
    "df['time'] = pd.to_datetime(df['time'], format='%Y-%m-%dT%H:%M:%S.%fZ', errors='coerce')"
   ]
  },
  {
   "cell_type": "code",
   "execution_count": 78,
   "id": "b448ac63",
   "metadata": {},
   "outputs": [],
   "source": [
    "#conversion de columnas nuevas \n",
    "df['año'] = df['time'].dt.year\n",
    "df['mes'] = df['time'].dt.month\n",
    "df['dia'] = df['time'].dt.day\n",
    "df['hora'] = df['time'].dt.hour\n",
    "df['dia_semana'] = df['time'].dt.day_name()\n",
    "df['fecha'] = df['time'].dt.date\n",
    "df['minuto'] = df['time'].dt.minute"
   ]
  },
  {
   "cell_type": "code",
   "execution_count": 79,
   "id": "57ffd9c4",
   "metadata": {},
   "outputs": [],
   "source": [
    "#Categorizando la magnitud\n",
    "df['mag_obj'] = pd.cut(df['mag'], bins=[0, 2, 4, 6, 8, 10], labels=['Bajo', 'Medio', 'Alto', 'Muy Alto', 'Extremo'], include_lowest=True)\n",
    "#Categorizando la profundidad\n",
    "df['depth_obj'] = pd.cut(df['depth'], bins=[0, 50, 100, 150, 200, 300], labels=['Superficial', 'Intermedia', 'Profunda', 'Muy Profunda', 'Extrema'], include_lowest=True)\n"
   ]
  },
  {
   "cell_type": "markdown",
   "id": "9ceb887e",
   "metadata": {},
   "source": [
    "### Reparación datos nulos"
   ]
  },
  {
   "cell_type": "markdown",
   "id": "560b4f45",
   "metadata": {},
   "source": [
    "##### Observación: Teniendo en cuenta el elevado porcentaje de datos nulos y el tipo de datos que hay que reparar, vamos a reemplazarlos por \"Sin datos\" en vez de realizar una mediana, ya que este último podría afectar a los resultados."
   ]
  },
  {
   "cell_type": "code",
   "execution_count": 80,
   "id": "34a7ee26",
   "metadata": {},
   "outputs": [],
   "source": [
    "df[\"nst\"].fillna(\"Sin datos\", inplace=True) #reemplazamos los valores nulos por \"Sin datos\" en la columna \"nst\"\n",
    "df[\"gap\"].fillna(\"Sin datos\", inplace=True) #reemplazamos los valores nulos por \"Sin datos\" en la columna \"gap\"\n",
    "df[\"dmin\"].fillna(\"Sin datos\", inplace=True) #reemplazamos los valores nulos por \"Sin datos\" en la columna \"dmin\"\n",
    "df[\"horizontalError\"].fillna(\"Sin datos\", inplace=True) #reemplazamos los valores nulos por \"Sin datos\" en la columna \"horizontalError\"\n",
    "df[\"magError\"].fillna(\"Sin datos\", inplace=True) #reemplazamos los valores nulos por \"Sin datos\" en la columna \"magError\"\n",
    "df[\"magNst\"].fillna(\"Sin datos\", inplace=True) #reemplazamos los valores nulos por \"Sin datos\" en la columna \"magNst\""
   ]
  },
  {
   "cell_type": "code",
   "execution_count": 81,
   "id": "3a7d691f",
   "metadata": {},
   "outputs": [
    {
     "data": {
      "text/plain": [
       "time                 0\n",
       "latitude             0\n",
       "longitude            0\n",
       "depth                0\n",
       "mag                  0\n",
       "magType              0\n",
       "nst                  0\n",
       "gap                  0\n",
       "dmin                 0\n",
       "rms                  0\n",
       "net                  0\n",
       "id                   0\n",
       "updated              0\n",
       "place                0\n",
       "type                 0\n",
       "horizontalError      0\n",
       "depthError           0\n",
       "magError             0\n",
       "magNst               0\n",
       "status               0\n",
       "locationSource       0\n",
       "magSource            0\n",
       "año                  0\n",
       "mes                  0\n",
       "dia                  0\n",
       "hora                 0\n",
       "dia_semana           0\n",
       "fecha                0\n",
       "minuto               0\n",
       "mag_obj            637\n",
       "depth_obj          372\n",
       "dtype: int64"
      ]
     },
     "execution_count": 81,
     "metadata": {},
     "output_type": "execute_result"
    }
   ],
   "source": [
    "df.isnull().sum() #comprobamos si hay valores nulos en el dataframe"
   ]
  },
  {
   "cell_type": "code",
   "execution_count": 82,
   "id": "4b120c49",
   "metadata": {},
   "outputs": [
    {
     "name": "stdout",
     "output_type": "stream",
     "text": [
      "<class 'pandas.core.frame.DataFrame'>\n",
      "RangeIndex: 10137 entries, 0 to 10136\n",
      "Data columns (total 31 columns):\n",
      " #   Column           Non-Null Count  Dtype         \n",
      "---  ------           --------------  -----         \n",
      " 0   time             10137 non-null  datetime64[ns]\n",
      " 1   latitude         10137 non-null  float64       \n",
      " 2   longitude        10137 non-null  float64       \n",
      " 3   depth            10137 non-null  float64       \n",
      " 4   mag              10137 non-null  float64       \n",
      " 5   magType          10137 non-null  object        \n",
      " 6   nst              10137 non-null  object        \n",
      " 7   gap              10137 non-null  object        \n",
      " 8   dmin             10137 non-null  object        \n",
      " 9   rms              10137 non-null  float64       \n",
      " 10  net              10137 non-null  object        \n",
      " 11  id               10137 non-null  object        \n",
      " 12  updated          10137 non-null  object        \n",
      " 13  place            10137 non-null  object        \n",
      " 14  type             10137 non-null  object        \n",
      " 15  horizontalError  10137 non-null  object        \n",
      " 16  depthError       10137 non-null  float64       \n",
      " 17  magError         10137 non-null  object        \n",
      " 18  magNst           10137 non-null  object        \n",
      " 19  status           10137 non-null  object        \n",
      " 20  locationSource   10137 non-null  object        \n",
      " 21  magSource        10137 non-null  object        \n",
      " 22  año              10137 non-null  int32         \n",
      " 23  mes              10137 non-null  int32         \n",
      " 24  dia              10137 non-null  int32         \n",
      " 25  hora             10137 non-null  int32         \n",
      " 26  dia_semana       10137 non-null  object        \n",
      " 27  fecha            10137 non-null  object        \n",
      " 28  minuto           10137 non-null  int32         \n",
      " 29  mag_obj          9500 non-null   category      \n",
      " 30  depth_obj        9765 non-null   category      \n",
      "dtypes: category(2), datetime64[ns](1), float64(6), int32(5), object(17)\n",
      "memory usage: 2.1+ MB\n"
     ]
    }
   ],
   "source": [
    "df.info() #informacion del dataframe limpio"
   ]
  },
  {
   "cell_type": "code",
   "execution_count": 83,
   "id": "ea8706e7",
   "metadata": {},
   "outputs": [],
   "source": [
    "#Creamos el dataset limpio en csv\n",
    "df.to_csv(r'C:\\Users\\cmoli\\OneDrive\\Documentos\\GitHub\\nuevo-proyecto\\data\\dataset_limpio.csv', index=False)"
   ]
  }
 ],
 "metadata": {
  "kernelspec": {
   "display_name": "Python 3",
   "language": "python",
   "name": "python3"
  },
  "language_info": {
   "codemirror_mode": {
    "name": "ipython",
    "version": 3
   },
   "file_extension": ".py",
   "mimetype": "text/x-python",
   "name": "python",
   "nbconvert_exporter": "python",
   "pygments_lexer": "ipython3",
   "version": "3.13.3"
  }
 },
 "nbformat": 4,
 "nbformat_minor": 5
}
