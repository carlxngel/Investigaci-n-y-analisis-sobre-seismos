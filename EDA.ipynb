{
 "cells": [
  {
   "cell_type": "markdown",
   "id": "0a7fadda",
   "metadata": {},
   "source": [
    "### Librerías"
   ]
  },
  {
   "cell_type": "code",
   "execution_count": 15,
   "id": "1a455043",
   "metadata": {},
   "outputs": [],
   "source": [
    "import pandas as pd\n",
    "import numpy as np\n",
    "import matplotlib.pyplot as plt\n",
    "import seaborn as sns\n",
    "import plotly.express as px\n",
    "from scipy import stats\n",
    "import warnings\n",
    "warnings.filterwarnings(\"ignore\")"
   ]
  },
  {
   "cell_type": "markdown",
   "id": "75f60a42",
   "metadata": {},
   "source": [
    "### Configuraciones"
   ]
  },
  {
   "cell_type": "code",
   "execution_count": 16,
   "id": "028afcc7",
   "metadata": {},
   "outputs": [],
   "source": [
    "plt.style.use('ggplot') \n",
    "sns.set(style=\"whitegrid\") \n",
    "plt.rcParams['figure.figsize'] = (12, 4)\n",
    "plt.rcParams['font.size'] = 12"
   ]
  },
  {
   "cell_type": "markdown",
   "id": "074fb771",
   "metadata": {},
   "source": [
    "### Carga de datos"
   ]
  },
  {
   "cell_type": "code",
   "execution_count": 21,
   "id": "53dbc355",
   "metadata": {},
   "outputs": [],
   "source": [
    "df = pd.read_csv(r\"C:\\Users\\cmoli\\OneDrive\\Documentos\\GitHub\\nuevo-proyecto\\data\\all_month 1.csv\")"
   ]
  },
  {
   "cell_type": "code",
   "execution_count": 22,
   "id": "6a0cef91",
   "metadata": {},
   "outputs": [
    {
     "data": {
      "text/html": [
       "<div>\n",
       "<style scoped>\n",
       "    .dataframe tbody tr th:only-of-type {\n",
       "        vertical-align: middle;\n",
       "    }\n",
       "\n",
       "    .dataframe tbody tr th {\n",
       "        vertical-align: top;\n",
       "    }\n",
       "\n",
       "    .dataframe thead th {\n",
       "        text-align: right;\n",
       "    }\n",
       "</style>\n",
       "<table border=\"1\" class=\"dataframe\">\n",
       "  <thead>\n",
       "    <tr style=\"text-align: right;\">\n",
       "      <th></th>\n",
       "      <th>time</th>\n",
       "      <th>latitude</th>\n",
       "      <th>longitude</th>\n",
       "      <th>depth</th>\n",
       "      <th>mag</th>\n",
       "      <th>magType</th>\n",
       "      <th>nst</th>\n",
       "      <th>gap</th>\n",
       "      <th>dmin</th>\n",
       "      <th>rms</th>\n",
       "      <th>...</th>\n",
       "      <th>updated</th>\n",
       "      <th>place</th>\n",
       "      <th>type</th>\n",
       "      <th>horizontalError</th>\n",
       "      <th>depthError</th>\n",
       "      <th>magError</th>\n",
       "      <th>magNst</th>\n",
       "      <th>status</th>\n",
       "      <th>locationSource</th>\n",
       "      <th>magSource</th>\n",
       "    </tr>\n",
       "  </thead>\n",
       "  <tbody>\n",
       "    <tr>\n",
       "      <th>0</th>\n",
       "      <td>2025-05-02T02:50:02.380Z</td>\n",
       "      <td>33.912167</td>\n",
       "      <td>-117.070000</td>\n",
       "      <td>12.69</td>\n",
       "      <td>0.89</td>\n",
       "      <td>ml</td>\n",
       "      <td>33.0</td>\n",
       "      <td>116.0</td>\n",
       "      <td>NaN</td>\n",
       "      <td>0.20</td>\n",
       "      <td>...</td>\n",
       "      <td>2025-05-02T02:53:47.574Z</td>\n",
       "      <td>9 km S of Calimesa, CA</td>\n",
       "      <td>earthquake</td>\n",
       "      <td>0.31</td>\n",
       "      <td>1.31</td>\n",
       "      <td>0.167</td>\n",
       "      <td>28.0</td>\n",
       "      <td>automatic</td>\n",
       "      <td>ci</td>\n",
       "      <td>ci</td>\n",
       "    </tr>\n",
       "    <tr>\n",
       "      <th>1</th>\n",
       "      <td>2025-05-02T02:39:31.940Z</td>\n",
       "      <td>33.073667</td>\n",
       "      <td>-116.801333</td>\n",
       "      <td>9.34</td>\n",
       "      <td>0.82</td>\n",
       "      <td>ml</td>\n",
       "      <td>5.0</td>\n",
       "      <td>168.0</td>\n",
       "      <td>0.1396</td>\n",
       "      <td>0.15</td>\n",
       "      <td>...</td>\n",
       "      <td>2025-05-02T02:42:55.817Z</td>\n",
       "      <td>7 km ENE of Ramona, CA</td>\n",
       "      <td>earthquake</td>\n",
       "      <td>3.87</td>\n",
       "      <td>10.42</td>\n",
       "      <td>0.388</td>\n",
       "      <td>9.0</td>\n",
       "      <td>automatic</td>\n",
       "      <td>ci</td>\n",
       "      <td>ci</td>\n",
       "    </tr>\n",
       "  </tbody>\n",
       "</table>\n",
       "<p>2 rows × 22 columns</p>\n",
       "</div>"
      ],
      "text/plain": [
       "                       time   latitude   longitude  depth   mag magType   nst  \\\n",
       "0  2025-05-02T02:50:02.380Z  33.912167 -117.070000  12.69  0.89      ml  33.0   \n",
       "1  2025-05-02T02:39:31.940Z  33.073667 -116.801333   9.34  0.82      ml   5.0   \n",
       "\n",
       "     gap    dmin   rms  ...                   updated                   place  \\\n",
       "0  116.0     NaN  0.20  ...  2025-05-02T02:53:47.574Z  9 km S of Calimesa, CA   \n",
       "1  168.0  0.1396  0.15  ...  2025-05-02T02:42:55.817Z  7 km ENE of Ramona, CA   \n",
       "\n",
       "         type horizontalError depthError  magError  magNst     status  \\\n",
       "0  earthquake            0.31       1.31     0.167    28.0  automatic   \n",
       "1  earthquake            3.87      10.42     0.388     9.0  automatic   \n",
       "\n",
       "   locationSource magSource  \n",
       "0              ci        ci  \n",
       "1              ci        ci  \n",
       "\n",
       "[2 rows x 22 columns]"
      ]
     },
     "execution_count": 22,
     "metadata": {},
     "output_type": "execute_result"
    }
   ],
   "source": [
    "df.head(2) #Comprobamos que el dataframe se ha cargado correctamente"
   ]
  },
  {
   "cell_type": "code",
   "execution_count": 24,
   "id": "a33ab03a",
   "metadata": {},
   "outputs": [
    {
     "data": {
      "text/plain": [
       "time                  0\n",
       "latitude              0\n",
       "longitude             0\n",
       "depth                 0\n",
       "mag                   0\n",
       "magType               0\n",
       "nst                1476\n",
       "gap                1476\n",
       "dmin               1478\n",
       "rms                   0\n",
       "net                   0\n",
       "id                    0\n",
       "updated               0\n",
       "place                 0\n",
       "type                  0\n",
       "horizontalError    2091\n",
       "depthError            0\n",
       "magError           1493\n",
       "magNst             1477\n",
       "status                0\n",
       "locationSource        0\n",
       "magSource             0\n",
       "dtype: int64"
      ]
     },
     "execution_count": 24,
     "metadata": {},
     "output_type": "execute_result"
    }
   ],
   "source": [
    "df.isnull().sum() #comprobamos si hay valores nulos en el dataframe"
   ]
  }
 ],
 "metadata": {
  "kernelspec": {
   "display_name": "Python 3",
   "language": "python",
   "name": "python3"
  },
  "language_info": {
   "codemirror_mode": {
    "name": "ipython",
    "version": 3
   },
   "file_extension": ".py",
   "mimetype": "text/x-python",
   "name": "python",
   "nbconvert_exporter": "python",
   "pygments_lexer": "ipython3",
   "version": "3.13.3"
  }
 },
 "nbformat": 4,
 "nbformat_minor": 5
}
