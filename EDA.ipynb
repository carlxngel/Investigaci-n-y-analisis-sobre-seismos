{
 "cells": [
  {
   "cell_type": "markdown",
   "id": "cee077b5",
   "metadata": {},
   "source": [
    "## EDA"
   ]
  },
  {
   "cell_type": "markdown",
   "id": "0a7fadda",
   "metadata": {},
   "source": [
    "### Librerías"
   ]
  },
  {
   "cell_type": "code",
   "execution_count": 27,
   "id": "1a455043",
   "metadata": {},
   "outputs": [],
   "source": [
    "# Importamos las librerías necesarias\n",
    "import pandas as pd\n",
    "import numpy as np\n",
    "import matplotlib.pyplot as plt\n",
    "import seaborn as sns\n",
    "import folium\n",
    "from folium.plugins import HeatMap, MarkerCluster\n",
    "from sklearn.cluster import KMeans\n",
    "from sklearn.preprocessing import StandardScaler\n",
    "import datetime\n",
    "from matplotlib import cm\n",
    "from matplotlib.colors import ListedColormap\n",
    "import warnings\n",
    "warnings.filterwarnings(\"ignore\")"
   ]
  },
  {
   "cell_type": "markdown",
   "id": "75f60a42",
   "metadata": {},
   "source": [
    "### Configuraciones"
   ]
  },
  {
   "cell_type": "code",
   "execution_count": 28,
   "id": "028afcc7",
   "metadata": {},
   "outputs": [],
   "source": [
    "plt.style.use('seaborn-v0_8')\n",
    "sns.set(style=\"whitegrid\")\n",
    "plt.rcParams['figure.figsize'] = (12, 4)\n",
    "plt.rcParams['axes.labelsize'] = 12\n",
    "plt.rcParams['axes.titlesize'] = 14\n",
    "plt.rcParams['xtick.labelsize'] = 10\n",
    "plt.rcParams['ytick.labelsize'] = 10\n",
    "\n",
    "viridis = cm.get_cmap('viridis', 256)\n",
    "magma = cm.get_cmap('magma', 256)\n",
    "plasma = cm.get_cmap('plasma', 256)"
   ]
  },
  {
   "cell_type": "markdown",
   "id": "074fb771",
   "metadata": {},
   "source": [
    "### Carga de datos"
   ]
  },
  {
   "cell_type": "code",
   "execution_count": 29,
   "id": "53dbc355",
   "metadata": {},
   "outputs": [],
   "source": [
    "df = pd.read_csv(r\"C:\\Users\\cmoli\\OneDrive\\Documentos\\GitHub\\nuevo-proyecto\\data\\dataset_limpio.csv\")"
   ]
  },
  {
   "cell_type": "code",
   "execution_count": 30,
   "id": "6a0cef91",
   "metadata": {},
   "outputs": [
    {
     "data": {
      "text/html": [
       "<div>\n",
       "<style scoped>\n",
       "    .dataframe tbody tr th:only-of-type {\n",
       "        vertical-align: middle;\n",
       "    }\n",
       "\n",
       "    .dataframe tbody tr th {\n",
       "        vertical-align: top;\n",
       "    }\n",
       "\n",
       "    .dataframe thead th {\n",
       "        text-align: right;\n",
       "    }\n",
       "</style>\n",
       "<table border=\"1\" class=\"dataframe\">\n",
       "  <thead>\n",
       "    <tr style=\"text-align: right;\">\n",
       "      <th></th>\n",
       "      <th>time</th>\n",
       "      <th>latitude</th>\n",
       "      <th>longitude</th>\n",
       "      <th>depth</th>\n",
       "      <th>mag</th>\n",
       "      <th>magType</th>\n",
       "      <th>nst</th>\n",
       "      <th>gap</th>\n",
       "      <th>dmin</th>\n",
       "      <th>rms</th>\n",
       "      <th>...</th>\n",
       "      <th>magSource</th>\n",
       "      <th>año</th>\n",
       "      <th>mes</th>\n",
       "      <th>dia</th>\n",
       "      <th>hora</th>\n",
       "      <th>dia_semana</th>\n",
       "      <th>fecha</th>\n",
       "      <th>minuto</th>\n",
       "      <th>mag_obj</th>\n",
       "      <th>depth_obj</th>\n",
       "    </tr>\n",
       "  </thead>\n",
       "  <tbody>\n",
       "    <tr>\n",
       "      <th>0</th>\n",
       "      <td>2025-05-02 02:50:02.380</td>\n",
       "      <td>33.912167</td>\n",
       "      <td>-117.070000</td>\n",
       "      <td>12.69</td>\n",
       "      <td>0.89</td>\n",
       "      <td>ml</td>\n",
       "      <td>33.0</td>\n",
       "      <td>116.0</td>\n",
       "      <td>Sin datos</td>\n",
       "      <td>0.20</td>\n",
       "      <td>...</td>\n",
       "      <td>ci</td>\n",
       "      <td>2025</td>\n",
       "      <td>5</td>\n",
       "      <td>2</td>\n",
       "      <td>2</td>\n",
       "      <td>Friday</td>\n",
       "      <td>2025-05-02</td>\n",
       "      <td>50</td>\n",
       "      <td>Bajo</td>\n",
       "      <td>Superficial</td>\n",
       "    </tr>\n",
       "    <tr>\n",
       "      <th>1</th>\n",
       "      <td>2025-05-02 02:39:31.940</td>\n",
       "      <td>33.073667</td>\n",
       "      <td>-116.801333</td>\n",
       "      <td>9.34</td>\n",
       "      <td>0.82</td>\n",
       "      <td>ml</td>\n",
       "      <td>5.0</td>\n",
       "      <td>168.0</td>\n",
       "      <td>0.1396</td>\n",
       "      <td>0.15</td>\n",
       "      <td>...</td>\n",
       "      <td>ci</td>\n",
       "      <td>2025</td>\n",
       "      <td>5</td>\n",
       "      <td>2</td>\n",
       "      <td>2</td>\n",
       "      <td>Friday</td>\n",
       "      <td>2025-05-02</td>\n",
       "      <td>39</td>\n",
       "      <td>Bajo</td>\n",
       "      <td>Superficial</td>\n",
       "    </tr>\n",
       "  </tbody>\n",
       "</table>\n",
       "<p>2 rows × 31 columns</p>\n",
       "</div>"
      ],
      "text/plain": [
       "                      time   latitude   longitude  depth   mag magType   nst  \\\n",
       "0  2025-05-02 02:50:02.380  33.912167 -117.070000  12.69  0.89      ml  33.0   \n",
       "1  2025-05-02 02:39:31.940  33.073667 -116.801333   9.34  0.82      ml   5.0   \n",
       "\n",
       "     gap       dmin   rms  ... magSource   año mes dia hora dia_semana  \\\n",
       "0  116.0  Sin datos  0.20  ...        ci  2025   5   2    2     Friday   \n",
       "1  168.0     0.1396  0.15  ...        ci  2025   5   2    2     Friday   \n",
       "\n",
       "        fecha minuto mag_obj    depth_obj  \n",
       "0  2025-05-02     50    Bajo  Superficial  \n",
       "1  2025-05-02     39    Bajo  Superficial  \n",
       "\n",
       "[2 rows x 31 columns]"
      ]
     },
     "execution_count": 30,
     "metadata": {},
     "output_type": "execute_result"
    }
   ],
   "source": [
    "df.head(2) #Comprobamos que el dataframe se ha cargado correctamente"
   ]
  },
  {
   "cell_type": "code",
   "execution_count": 31,
   "id": "a33ab03a",
   "metadata": {},
   "outputs": [
    {
     "data": {
      "text/plain": [
       "time                 0\n",
       "latitude             0\n",
       "longitude            0\n",
       "depth                0\n",
       "mag                  0\n",
       "magType              0\n",
       "nst                  0\n",
       "gap                  0\n",
       "dmin                 0\n",
       "rms                  0\n",
       "net                  0\n",
       "id                   0\n",
       "updated              0\n",
       "place                0\n",
       "type                 0\n",
       "horizontalError      0\n",
       "depthError           0\n",
       "magError             0\n",
       "magNst               0\n",
       "status               0\n",
       "locationSource       0\n",
       "magSource            0\n",
       "año                  0\n",
       "mes                  0\n",
       "dia                  0\n",
       "hora                 0\n",
       "dia_semana           0\n",
       "fecha                0\n",
       "minuto               0\n",
       "mag_obj            637\n",
       "depth_obj          372\n",
       "dtype: int64"
      ]
     },
     "execution_count": 31,
     "metadata": {},
     "output_type": "execute_result"
    }
   ],
   "source": [
    "df.isnull().sum() #comprobamos si hay valores nulos en el dataframe"
   ]
  },
  {
   "cell_type": "markdown",
   "id": "bfe5718c",
   "metadata": {},
   "source": [
    "#### Distribución de tipos de eventos sísmicos"
   ]
  },
  {
   "cell_type": "code",
   "execution_count": null,
   "id": "f67a9dfc",
   "metadata": {
    "vscode": {
     "languageId": "ruby"
    }
   },
   "outputs": [
    {
     "data": {
      "image/png": "[encoded data removed]",
      "text/plain": [
       "<Figure size 1200x400 with 1 Axes>"
      ]
     },
     "metadata": {},
     "output_type": "display_data"
    }
   ],
   "source": [
    "# Contamos los tipos de eventos sísmicos\n",
    "event_counts = df['type'].value_counts()\n",
    "\n",
    "# Creamos el gráfico de barras\n",
    "ax = sns.barplot(x=event_counts.index, y=event_counts.values, palette='viridis')\n",
    "\n",
    "# Añadimos etiquetas con los valores en cada barra\n",
    "for i, value in enumerate(event_counts.values):\n",
    "    ax.text(i, value + 5, str(value), ha='center', va='bottom', fontsize=10)\n",
    "\n",
    "# Configuramos el gráfico\n",
    "plt.title('Distribución de Tipos de Eventos Sísmicos')\n",
    "plt.xlabel('Tipo de Evento')\n",
    "plt.ylabel('Cantidad')\n",
    "plt.xticks(rotation=45)\n",
    "plt.show()"
   ]
  },
  {
   "cell_type": "code",
   "execution_count": null,
   "id": "3f873d50",
   "metadata": {
    "vscode": {
     "languageId": "ruby"
    }
   },
   "outputs": [],
   "source": [
    "\"\"\" Este histograma de frecuencias muestra la distribución de los tipos de eventos sísmicos del dataset.\n",
    "\n",
    "Distribución: \n",
    "    ·Earthquake es, con gran diferencia, el tipo más común, con casi 10,000 eventos.\n",
    "    ·Otros tipos como quarry blast, explosion, ice quake, y other event tienen frecuencias significativamente menores, casi insignificantes en comparación.\n",
    "\n",
    "Conclusiones:\n",
    "    1.Predominio de los Terremotos:\n",
    "    Los terremotos (earthquakes) son, con diferencia, el tipo de evento sísmico más común, con 9930 registros, representando más del 99% del total.\n",
    "\n",
    "    2.Eventos Minoritarios:\n",
    "    Los otros tipos de eventos, como quarry blast (119), explosion (80), ice quake (7) y other event (1), tienen frecuencias significativamente más bajas, lo que sugiere que son mucho menos frecuentes o menos detectados.\n",
    "\n",
    "    3.Desbalance en la Clasificación:\n",
    "    La enorme diferencia en la cantidad de terremotos frente a otros tipos de eventos puede reflejar un sesgo en los datos, probablemente debido a que las redes sísmicas están optimizadas para detectar terremotos.\n",
    "\n",
    "    4.Posible Subrepresentación:\n",
    "    Algunos tipos como ice quake y other event parecen estar subrepresentados, lo que podría estar relacionado con la ubicación geográfica o la sensibilidad de los sensores.\n",
    "\n",
    "    5.Importancia de los Datos Contextuales:\n",
    "    Para comprender mejor esta distribución, sería importante considerar factores como la región de muestreo, la profundidad y la energía liberada por cada tipo de evento.#\n",
    "\n",
    "\n",
    "\n"
   ]
  },
  {
   "cell_type": "markdown",
   "id": "1a45e196",
   "metadata": {},
   "source": [
    "#### Comparación de magnitud por tipos de evento sísmico"
   ]
  },
  {
   "cell_type": "code",
   "execution_count": 43,
   "id": "2d6be797",
   "metadata": {},
   "outputs": [
    {
     "data": {
      "image/png": "[encoded data removed]",
      "text/plain": [
       "<Figure size 1000x600 with 1 Axes>"
      ]
     },
     "metadata": {},
     "output_type": "display_data"
    }
   ],
   "source": [
    "# Creamos un gráfico de caja para mostrar la magnitud por tipo de evento sísmico\n",
    "plt.figure(figsize=(10, 6))\n",
    "ax = sns.boxplot(data=df, x='type', y='mag', palette='plasma', showfliers=False, linewidth=1)\n",
    "\n",
    "# Añadimos etiquetas con la mediana en cada caja\n",
    "medians = df.groupby('type')['mag'].median()\n",
    "for i, median in enumerate(medians):\n",
    "    ax.text(i, median + 0.05, f'{median:.2f}', ha='center', va='bottom', fontsize=10, color='black', fontweight='bold')\n",
    "\n",
    "# Configuramos el gráfico\n",
    "plt.title('Magnitud por Tipo de Evento Sísmico', fontsize=16, fontweight='bold')\n",
    "plt.xlabel('Tipo de Evento', fontsize=12)\n",
    "plt.ylabel('Magnitud', fontsize=12)\n",
    "plt.xticks(rotation=45, fontsize=10)\n",
    "plt.yticks(fontsize=10)\n",
    "plt.grid(axis='y', linestyle='--', alpha=0.7)\n",
    "plt.tight_layout()\n",
    "plt.show()"
   ]
  },
  {
   "cell_type": "code",
   "execution_count": null,
   "id": "2a9cc5a5",
   "metadata": {
    "vscode": {
     "languageId": "ruby"
    }
   },
   "outputs": [],
   "source": []
  },
  {
   "cell_type": "markdown",
   "id": "f71b9a19",
   "metadata": {},
   "source": [
    "#### Comparación de profundidad por tipo de evento sísmico"
   ]
  },
  {
   "cell_type": "code",
   "execution_count": null,
   "id": "16f1ed7b",
   "metadata": {
    "vscode": {
     "languageId": "r"
    }
   },
   "outputs": [],
   "source": [
    "# Creamos un gráfico de caja para mostrar la profundidad por tipo de evento sísmico\n",
    "plt.figure(figsize=(10, 6))\n",
    "ax = sns.boxplot(data=df, x='type', y='depth', palette='magma', showfliers=False, linewidth=1)\n",
    "\n",
    "# Añadimos etiquetas con la mediana en cada caja\n",
    "medians = df.groupby('type')['depth'].median()\n",
    "for i, median in enumerate(medians):\n",
    "    ax.text(i, median + 1, f'{median:.2f}', ha='center', va='bottom', fontsize=10, color='black', fontweight='bold')\n",
    "\n",
    "# Configuramos el gráfico\n",
    "plt.title('Profundidad por Tipo de Evento Sísmico', fontsize=16, fontweight='bold')\n",
    "plt.xlabel('Tipo de Evento', fontsize=12)\n",
    "plt.ylabel('Profundidad (km)', fontsize=12)\n",
    "plt.xticks(rotation=45, fontsize=10)\n",
    "plt.yticks(fontsize=10)\n",
    "plt.grid(axis='y', linestyle='--', alpha=0.7)\n",
    "plt.tight_layout()\n",
    "plt.show()"
   ]
  },
  {
   "cell_type": "markdown",
   "id": "f40ded27",
   "metadata": {},
   "source": [
    "#### Distribución de magnitud por tipo de evento sísmico"
   ]
  },
  {
   "cell_type": "code",
   "execution_count": null,
   "id": "b947d419",
   "metadata": {
    "vscode": {
     "languageId": "r"
    }
   },
   "outputs": [],
   "source": [
    "# Creamos un gráfico de violín para mostrar la distribución de magnitud por tipo de evento sísmico\n",
    "plt.figure(figsize=(10, 6))\n",
    "sns.violinplot(data=df, x='type', y='mag', palette='viridis', inner='quartile')\n",
    "\n",
    "# Configuramos el gráfico\n",
    "plt.title('Distribución de Magnitud por Tipo de Evento Sísmico', fontsize=16, fontweight='bold')\n",
    "plt.xlabel('Tipo de Evento', fontsize=12)\n",
    "plt.ylabel('Magnitud', fontsize=12)\n",
    "plt.xticks(rotation=45, fontsize=10)\n",
    "plt.yticks(fontsize=10)\n",
    "plt.grid(axis='y', linestyle='--', alpha=0.7)\n",
    "plt.tight_layout()\n",
    "plt.show()"
   ]
  },
  {
   "cell_type": "markdown",
   "id": "45ab81d2",
   "metadata": {},
   "source": [
    "#### Distribución de profundidad por tipo de evento sísmico"
   ]
  },
  {
   "cell_type": "markdown",
   "id": "93d08bcc",
   "metadata": {},
   "source": [
    "#### Relación entre magnitud y profundidad por tipo de evento sísmico"
   ]
  },
  {
   "cell_type": "markdown",
   "id": "4db7a505",
   "metadata": {},
   "source": [
    "#### Mapa de calor de los terremotos"
   ]
  },
  {
   "cell_type": "markdown",
   "id": "e3bec6c7",
   "metadata": {},
   "source": [
    "#### Conclusiones generales"
   ]
  }
 ],
 "metadata": {
  "kernelspec": {
   "display_name": "Python 3",
   "language": "python",
   "name": "python3"
  },
  "language_info": {
   "codemirror_mode": {
    "name": "ipython",
    "version": 3
   },
   "file_extension": ".py",
   "mimetype": "text/x-python",
   "name": "python",
   "nbconvert_exporter": "python",
   "pygments_lexer": "ipython3",
   "version": "3.13.3"
  }
 },
 "nbformat": 4,
 "nbformat_minor": 5
}
